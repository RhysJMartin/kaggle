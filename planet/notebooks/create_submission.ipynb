{
 "cells": [
  {
   "cell_type": "code",
   "execution_count": 1,
   "metadata": {},
   "outputs": [
    {
     "name": "stderr",
     "output_type": "stream",
     "text": [
      "Using TensorFlow backend.\n"
     ]
    }
   ],
   "source": [
    "import numpy as np # linear algebra\n",
    "import pandas as pd # data processing, CSV file I/O (e.g. pd.read_csv)\n",
    "import os\n",
    "import gc\n",
    "\n",
    "import keras as k\n",
    "from keras.models import Sequential\n",
    "from keras.layers import Dense, Dropout, Flatten\n",
    "from keras.layers import Conv2D, MaxPooling2D\n",
    "from keras.models import load_model\n",
    "\n",
    "import cv2\n",
    "import platform\n",
    "from tqdm import tqdm\n",
    "import h5py\n",
    "import yaml"
   ]
  },
  {
   "cell_type": "code",
   "execution_count": 2,
   "metadata": {},
   "outputs": [],
   "source": [
    "# load keras model\n",
    "model = load_model('../models/simple_cnn_weights_00_0.20.hdf5')\n",
    "image_size = (150,150)"
   ]
  },
  {
   "cell_type": "code",
   "execution_count": 3,
   "metadata": {
    "collapsed": true
   },
   "outputs": [],
   "source": [
    "# get the file names for all test images\n",
    "file_names = os.listdir('../data/test-jpg')\n",
    "test_images = [name.split('.')[0] for name in file_names]"
   ]
  },
  {
   "cell_type": "code",
   "execution_count": 4,
   "metadata": {},
   "outputs": [
    {
     "name": "stderr",
     "output_type": "stream",
     "text": [
      "100%|██████████| 10/10 [00:00<00:00, 87.43it/s]"
     ]
    },
    {
     "name": "stdout",
     "output_type": "stream",
     "text": [
      "x_test shape:      (10, 150, 150, 3)\n"
     ]
    },
    {
     "name": "stderr",
     "output_type": "stream",
     "text": [
      "\n"
     ]
    }
   ],
   "source": [
    "# load test data function\n",
    "def load_test_images(test_images):\n",
    "    x_test = []\n",
    "    for f in tqdm(test_images, miniters=10):\n",
    "        img = cv2.imread('../data/test-jpg/{}.jpg'.format(f))\n",
    "        x_test.append(cv2.resize(img, image_size))\n",
    "    x_test = np.array(x_test, np.float16)/255.\n",
    "    return x_test   \n",
    "\n",
    "# test load_test_images\n",
    "x_test = load_test_images(test_images[:10])\n",
    "print('x_test shape:      {}'.format(x_test.shape))"
   ]
  },
  {
   "cell_type": "code",
   "execution_count": 5,
   "metadata": {},
   "outputs": [],
   "source": [
    "with open('../label_maps.yml', 'r') as lablels:\n",
    "    label_data = yaml.load(lablels)\n",
    "inv_label_map = label_data['inv_label_map']\n",
    "label_map = label_data['label_map']"
   ]
  },
  {
   "cell_type": "raw",
   "metadata": {
    "collapsed": true
   },
   "source": []
  },
  {
   "cell_type": "code",
   "execution_count": 6,
   "metadata": {},
   "outputs": [
    {
     "data": {
      "text/html": [
       "<div>\n",
       "<table border=\"1\" class=\"dataframe\">\n",
       "  <thead>\n",
       "    <tr style=\"text-align: right;\">\n",
       "      <th></th>\n",
       "      <th>image_name</th>\n",
       "      <th>tags</th>\n",
       "    </tr>\n",
       "  </thead>\n",
       "  <tbody>\n",
       "    <tr>\n",
       "      <th>0</th>\n",
       "      <td>test_38951</td>\n",
       "      <td>road agriculture water clear partly_cloudy pri...</td>\n",
       "    </tr>\n",
       "    <tr>\n",
       "      <th>1</th>\n",
       "      <td>test_24774</td>\n",
       "      <td>road agriculture water clear partly_cloudy pri...</td>\n",
       "    </tr>\n",
       "    <tr>\n",
       "      <th>2</th>\n",
       "      <td>test_3232</td>\n",
       "      <td>road agriculture water haze clear partly_cloud...</td>\n",
       "    </tr>\n",
       "    <tr>\n",
       "      <th>3</th>\n",
       "      <td>test_237</td>\n",
       "      <td>road agriculture water clear partly_cloudy pri...</td>\n",
       "    </tr>\n",
       "    <tr>\n",
       "      <th>4</th>\n",
       "      <td>file_2684</td>\n",
       "      <td>agriculture clear primary</td>\n",
       "    </tr>\n",
       "    <tr>\n",
       "      <th>5</th>\n",
       "      <td>test_36293</td>\n",
       "      <td>road agriculture water clear partly_cloudy pri...</td>\n",
       "    </tr>\n",
       "    <tr>\n",
       "      <th>6</th>\n",
       "      <td>test_18892</td>\n",
       "      <td>road agriculture water clear partly_cloudy pri...</td>\n",
       "    </tr>\n",
       "    <tr>\n",
       "      <th>7</th>\n",
       "      <td>test_18828</td>\n",
       "      <td>road agriculture water clear partly_cloudy pri...</td>\n",
       "    </tr>\n",
       "    <tr>\n",
       "      <th>8</th>\n",
       "      <td>test_26789</td>\n",
       "      <td>cloudy partly_cloudy primary</td>\n",
       "    </tr>\n",
       "    <tr>\n",
       "      <th>9</th>\n",
       "      <td>file_3965</td>\n",
       "      <td>road agriculture water clear partly_cloudy pri...</td>\n",
       "    </tr>\n",
       "  </tbody>\n",
       "</table>\n",
       "</div>"
      ],
      "text/plain": [
       "   image_name                                               tags\n",
       "0  test_38951  road agriculture water clear partly_cloudy pri...\n",
       "1  test_24774  road agriculture water clear partly_cloudy pri...\n",
       "2   test_3232  road agriculture water haze clear partly_cloud...\n",
       "3    test_237  road agriculture water clear partly_cloudy pri...\n",
       "4   file_2684                          agriculture clear primary\n",
       "5  test_36293  road agriculture water clear partly_cloudy pri...\n",
       "6  test_18892  road agriculture water clear partly_cloudy pri...\n",
       "7  test_18828  road agriculture water clear partly_cloudy pri...\n",
       "8  test_26789                       cloudy partly_cloudy primary\n",
       "9   file_3965  road agriculture water clear partly_cloudy pri..."
      ]
     },
     "execution_count": 6,
     "metadata": {},
     "output_type": "execute_result"
    }
   ],
   "source": [
    "def create_submission_file(test_images, p_test, threshold):\n",
    "    p_test_threshold = p_test > threshold\n",
    "    p_tags = []\n",
    "    for p_single in p_test_threshold:\n",
    "        p_tags.append(\" \".join([inv_label_map[i] for i, tag_pred in enumerate(p_single) if tag_pred == 1]))\n",
    "    submission_df = pd.DataFrame({'image_name': test_images})\n",
    "    submission_df['tags'] = p_tags\n",
    "    return submission_df\n",
    "    \n",
    "# test... requires x_test from above\n",
    "p_test = model.predict(x_test, batch_size=10)\n",
    "submission_df = create_submission_file(test_images[:10], p_test, 0.2)\n",
    "\n",
    "submission_df"
   ]
  },
  {
   "cell_type": "code",
   "execution_count": 7,
   "metadata": {},
   "outputs": [
    {
     "name": "stderr",
     "output_type": "stream",
     "text": [
      "100%|██████████| 12800/12800 [00:31<00:00, 401.16it/s]\n",
      "100%|██████████| 12800/12800 [00:31<00:00, 410.73it/s]\n",
      "100%|██████████| 12800/12800 [00:31<00:00, 405.64it/s]\n",
      "100%|██████████| 12800/12800 [00:31<00:00, 409.56it/s]\n",
      "100%|██████████| 9991/9991 [00:24<00:00, 402.46it/s]\n"
     ]
    },
    {
     "data": {
      "text/html": [
       "<div>\n",
       "<table border=\"1\" class=\"dataframe\">\n",
       "  <thead>\n",
       "    <tr style=\"text-align: right;\">\n",
       "      <th></th>\n",
       "      <th>image_name</th>\n",
       "      <th>tags</th>\n",
       "    </tr>\n",
       "  </thead>\n",
       "  <tbody>\n",
       "    <tr>\n",
       "      <th>0</th>\n",
       "      <td>test_38951</td>\n",
       "      <td>road agriculture water clear partly_cloudy pri...</td>\n",
       "    </tr>\n",
       "    <tr>\n",
       "      <th>1</th>\n",
       "      <td>test_24774</td>\n",
       "      <td>road agriculture water clear partly_cloudy pri...</td>\n",
       "    </tr>\n",
       "    <tr>\n",
       "      <th>2</th>\n",
       "      <td>test_3232</td>\n",
       "      <td>road agriculture water haze clear partly_cloud...</td>\n",
       "    </tr>\n",
       "    <tr>\n",
       "      <th>3</th>\n",
       "      <td>test_237</td>\n",
       "      <td>road agriculture water clear partly_cloudy pri...</td>\n",
       "    </tr>\n",
       "    <tr>\n",
       "      <th>4</th>\n",
       "      <td>file_2684</td>\n",
       "      <td>agriculture clear primary</td>\n",
       "    </tr>\n",
       "  </tbody>\n",
       "</table>\n",
       "</div>"
      ],
      "text/plain": [
       "   image_name                                               tags\n",
       "0  test_38951  road agriculture water clear partly_cloudy pri...\n",
       "1  test_24774  road agriculture water clear partly_cloudy pri...\n",
       "2   test_3232  road agriculture water haze clear partly_cloud...\n",
       "3    test_237  road agriculture water clear partly_cloudy pri...\n",
       "4   file_2684                          agriculture clear primary"
      ]
     },
     "execution_count": 7,
     "metadata": {},
     "output_type": "execute_result"
    }
   ],
   "source": [
    "chunk_size = 12800\n",
    "test_image_chunks = [test_images[x:x+chunk_size] for x in range(0, len(test_images), chunk_size)]\n",
    "sub_list = []\n",
    "for test_image_chunk in test_image_chunks:\n",
    "    x_test = load_test_images(test_image_chunk)\n",
    "    p_test = model.predict(x_test, batch_size=128)\n",
    "    submission_df = create_submission_file(test_image_chunk, p_test, 0.2)\n",
    "    sub_list.append(submission_df)\n",
    "submission_df_final = pd.concat(sub_list)\n",
    "submission_df_final.head()"
   ]
  },
  {
   "cell_type": "code",
   "execution_count": 8,
   "metadata": {
    "collapsed": true
   },
   "outputs": [],
   "source": [
    "submission_df_final.to_csv('../submissions/submission_aws_1.csv', index=False)"
   ]
  },
  {
   "cell_type": "code",
   "execution_count": 9,
   "metadata": {},
   "outputs": [
    {
     "data": {
      "text/plain": [
       "61191"
      ]
     },
     "execution_count": 9,
     "metadata": {},
     "output_type": "execute_result"
    }
   ],
   "source": [
    "len(submission_df_final)"
   ]
  },
  {
   "cell_type": "code",
   "execution_count": null,
   "metadata": {
    "collapsed": true
   },
   "outputs": [],
   "source": [
    "# attempt 1 - 0.839 (ankora simple keras)\n",
    "# https://blog.keras.io/building-powerful-image-classification-models-using-very-little-data.html\n",
    "# attempt 2 - 0.863 (keras blog link above)\n"
   ]
  }
 ],
 "metadata": {
  "kernelspec": {
   "display_name": "Python 3",
   "language": "python",
   "name": "python3"
  },
  "language_info": {
   "codemirror_mode": {
    "name": "ipython",
    "version": 3
   },
   "file_extension": ".py",
   "mimetype": "text/x-python",
   "name": "python",
   "nbconvert_exporter": "python",
   "pygments_lexer": "ipython3",
   "version": "3.4.3"
  }
 },
 "nbformat": 4,
 "nbformat_minor": 2
}
